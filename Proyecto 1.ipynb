{
 "cells": [
  {
   "cell_type": "markdown",
   "metadata": {},
   "source": [
    "# Ejercicio introducción a ciencia de datos"
   ]
  },
  {
   "cell_type": "markdown",
   "metadata": {},
   "source": [
    "Se toma la base de la encuesta anual de desarrolladores de Stack Overflow, realizada en mas de 180 paises, la cual toma varios temas de interes general."
   ]
  },
  {
   "cell_type": "markdown",
   "metadata": {},
   "source": [
    "### Como objetivo de este notebook se plantea responder varias preguntas\n",
    "##### 1. Cual es la distribución de los paises en total, ¿ cual es el que a tenido mas aumento en el 2020 ? \n",
    "##### 2. Analizar los items de nivel de educación y empleo, ¿ cual es el nivel de educacion que tiene el peor y cual el mejor porcentaje de empleo ?\n",
    "##### 3. Analizar la tendencia de lenguajes de programación deseados"
   ]
  },
  {
   "cell_type": "markdown",
   "metadata": {},
   "source": [
    "###### Para llevar a cabo el desarrollo de los objetivos se continua con su desarrollo:"
   ]
  },
  {
   "cell_type": "markdown",
   "metadata": {},
   "source": [
    "Importacion de librerias, y carga de datos"
   ]
  },
  {
   "cell_type": "markdown",
   "metadata": {},
   "source": [
    "##### 1. Cual es la distribución de los paises en total, ¿ cual es el que a tenido mas aumento en el 2020 ? "
   ]
  },
  {
   "cell_type": "code",
   "execution_count": 255,
   "metadata": {},
   "outputs": [
    {
     "name": "stderr",
     "output_type": "stream",
     "text": [
      "C:\\Users\\Kevin\\Anaconda3\\lib\\site-packages\\IPython\\core\\interactiveshell.py:3020: DtypeWarning: Columns (46,48,62) have mixed types. Specify dtype option on import or set low_memory=False.\n",
      "  interactivity=interactivity, compiler=compiler, result=result)\n",
      "C:\\Users\\Kevin\\Anaconda3\\lib\\site-packages\\IPython\\core\\interactiveshell.py:3020: DtypeWarning: Columns (5,108,121,196,197,198) have mixed types. Specify dtype option on import or set low_memory=False.\n",
      "  interactivity=interactivity, compiler=compiler, result=result)\n",
      "C:\\Users\\Kevin\\Anaconda3\\lib\\site-packages\\IPython\\core\\interactiveshell.py:3020: DtypeWarning: Columns (8,12,13,14,15,16,50,51,52,53,55,56,57,58,59,60,61,62,63,64,65,66,67,68,69,70,71,72,73,74,75,76,77,78,79,80,81,82,83,84,85,93,94,95,96,97,98,99,100,101,102,103,104,105,106,107,108,109,110,111,112,113,114,115,116,117,118,119,120,121,122,123,124,125,126,127,128) have mixed types. Specify dtype option on import or set low_memory=False.\n",
      "  interactivity=interactivity, compiler=compiler, result=result)\n"
     ]
    }
   ],
   "source": [
    "import os\n",
    "import pandas as pd\n",
    "import matplotlib.pyplot as plt\n",
    "import numpy as np\n",
    "os.chdir(\"C:\\\\Users\\Kevin\\Desktop\\Proyecto 1\\Data\")\n",
    "os.getcwd()\n",
    "\n",
    "\n",
    "filename2013 = '2013 Stack Overflow Survey Responses.csv'\n",
    "data_2013 = pd.read_csv(filename2013, header=0)\n",
    "filename2014 = '2014 Stack Overflow Survey Responses.csv'\n",
    "data_2014 = pd.read_csv(filename2014, header=0)\n",
    "filename2015 = '2015 Stack Overflow Developer Survey Responses.csv'\n",
    "data_2015 = pd.read_csv(filename2015, header=1)\n",
    "filename2016 = '2016 Stack Overflow Survey Responses.csv'\n",
    "data_2016 = pd.read_csv(filename2016, header=0)\n",
    "filename2017 = 'survey_results_public_2017.csv'\n",
    "data_2017 = pd.read_csv(filename2017, header=0)\n",
    "filename2018 = 'survey_results_public_2018.csv'\n",
    "data_2018 = pd.read_csv(filename2018, header=0)\n",
    "filename2019 = 'survey_results_public_2019.csv'\n",
    "data_2019 = pd.read_csv(filename2019, header=0)\n",
    "filename2020 = 'survey_results_public_2020.csv'\n",
    "data_2020 = pd.read_csv(filename2020, header=0)"
   ]
  },
  {
   "cell_type": "markdown",
   "metadata": {},
   "source": [
    "Se agrega una columna para identificar el año de la base"
   ]
  },
  {
   "cell_type": "code",
   "execution_count": 281,
   "metadata": {
    "scrolled": true
   },
   "outputs": [],
   "source": [
    "data_2020=data_2020.assign(año='2020')\n",
    "data_2019=data_2019.assign(año='2019')\n",
    "data_2018=data_2018.assign(año='2018')\n",
    "data_2017=data_2017.assign(año='2017')\n",
    "data_2016=data_2016.assign(año='2016')\n",
    "data_2015=data_2015.assign(año='2015')\n",
    "data_2014=data_2014.assign(año='2014')\n",
    "data_2013=data_2013.assign(año='2013')"
   ]
  },
  {
   "cell_type": "markdown",
   "metadata": {},
   "source": [
    "Antes de unir las bases, seleccionamos las variables y cambiamos nombres por practicidad"
   ]
  },
  {
   "cell_type": "code",
   "execution_count": 89,
   "metadata": {},
   "outputs": [],
   "source": [
    "d_2020=data_2020[['Country','año']]\n",
    "d_2019=data_2019[['Country','año']]\n",
    "d_2018=data_2018[['Country','año']]\n",
    "d_2017=data_2017[['Country','año']]\n",
    "d_2016=data_2016[['country','año']]\n",
    "d_2015=data_2015[['Country','año']]\n",
    "d_2014=data_2014[['What Country do you live in?','año']]\n",
    "d_2013=data_2013[['What Country or Region do you live in?','año']]\n",
    "\n",
    "d_2020.columns =['Country','Año']\n",
    "d_2019.columns =['Country','Año']\n",
    "d_2018.columns =['Country','Año']\n",
    "d_2017.columns =['Country','Año']\n",
    "d_2016.columns =['Country','Año']\n",
    "d_2015.columns =['Country','Año']\n",
    "d_2014.columns =['Country','Año']\n",
    "d_2013.columns =['Country','Año']"
   ]
  },
  {
   "cell_type": "markdown",
   "metadata": {},
   "source": [
    "Unimos las columnas de las bases que nos interesa para resolver la primera pregunta"
   ]
  },
  {
   "cell_type": "code",
   "execution_count": 93,
   "metadata": {},
   "outputs": [],
   "source": [
    "base_punto1=pd.concat([d_2020,d_2019,d_2018,d_2017,d_2016,d_2015,d_2014,d_2013])"
   ]
  },
  {
   "cell_type": "markdown",
   "metadata": {},
   "source": [
    "Veamos una pequeña medida de la base que trabajaremos"
   ]
  },
  {
   "cell_type": "code",
   "execution_count": 100,
   "metadata": {},
   "outputs": [
    {
     "name": "stdout",
     "output_type": "stream",
     "text": [
      "          count unique            top   freq\n",
      "Country  400851    282  United States  85594\n",
      "Año      403094      8           2018  98855\n"
     ]
    }
   ],
   "source": [
    "base_punto1.describe()"
   ]
  },
  {
   "cell_type": "markdown",
   "metadata": {},
   "source": [
    "Tambien es adecuado tener una idea grafica del estado de los datos"
   ]
  },
  {
   "cell_type": "code",
   "execution_count": 211,
   "metadata": {},
   "outputs": [
    {
     "data": {
      "image/png": "[encoded data removed]",
      "text/plain": [
       "<Figure size 432x288 with 2 Axes>"
      ]
     },
     "metadata": {
      "needs_background": "light"
     },
     "output_type": "display_data"
    }
   ],
   "source": [
    "pais = base_punto1.Country.value_counts().head(10) \n",
    "año = base_punto1.Año.value_counts() \n",
    "\n",
    "plt.subplot(1,2,1)\n",
    "p1=(pais/base_punto1.shape[0]).plot(kind=\"bar\");\n",
    "plt.title(\"Frecuencias de paises\");\n",
    "\n",
    "plt.subplot(1,2,2)\n",
    "p2=(año/base_punto1.shape[0]).plot(kind=\"bar\");\n",
    "plt.title(\"Frecuencias de año\");"
   ]
  },
  {
   "cell_type": "markdown",
   "metadata": {},
   "source": [
    "Para observar que País obtuvo el mayor aumento en comparación al años anetior (2019), veamos:"
   ]
  },
  {
   "cell_type": "code",
   "execution_count": 138,
   "metadata": {},
   "outputs": [],
   "source": [
    "pais_2020=base_punto1[base_punto1['Año']== '2020'].Country.value_counts()\n",
    "pais_2019=base_punto1[base_punto1['Año']== '2019'].Country.value_counts()\n",
    "aumento=(pais_2020/pais_2019)"
   ]
  },
  {
   "cell_type": "code",
   "execution_count": 218,
   "metadata": {},
   "outputs": [
    {
     "data": {
      "text/html": [
       "<div>\n",
       "<style scoped>\n",
       "    .dataframe tbody tr th:only-of-type {\n",
       "        vertical-align: middle;\n",
       "    }\n",
       "\n",
       "    .dataframe tbody tr th {\n",
       "        vertical-align: top;\n",
       "    }\n",
       "\n",
       "    .dataframe thead th {\n",
       "        text-align: right;\n",
       "    }\n",
       "</style>\n",
       "<table border=\"1\" class=\"dataframe\">\n",
       "  <thead>\n",
       "    <tr style=\"text-align: right;\">\n",
       "      <th></th>\n",
       "      <th>Año 2019</th>\n",
       "      <th>Año 2020</th>\n",
       "      <th>Aumento %</th>\n",
       "    </tr>\n",
       "  </thead>\n",
       "  <tbody>\n",
       "    <tr>\n",
       "      <th>Niger</th>\n",
       "      <td>1.0</td>\n",
       "      <td>5.0</td>\n",
       "      <td>5.000000</td>\n",
       "    </tr>\n",
       "    <tr>\n",
       "      <th>Malawi</th>\n",
       "      <td>2.0</td>\n",
       "      <td>8.0</td>\n",
       "      <td>4.000000</td>\n",
       "    </tr>\n",
       "    <tr>\n",
       "      <th>Bhutan</th>\n",
       "      <td>2.0</td>\n",
       "      <td>7.0</td>\n",
       "      <td>3.500000</td>\n",
       "    </tr>\n",
       "    <tr>\n",
       "      <th>Brunei Darussalam</th>\n",
       "      <td>1.0</td>\n",
       "      <td>3.0</td>\n",
       "      <td>3.000000</td>\n",
       "    </tr>\n",
       "    <tr>\n",
       "      <th>Sierra Leone</th>\n",
       "      <td>2.0</td>\n",
       "      <td>6.0</td>\n",
       "      <td>3.000000</td>\n",
       "    </tr>\n",
       "    <tr>\n",
       "      <th>Saint Vincent and the Grenadines</th>\n",
       "      <td>1.0</td>\n",
       "      <td>3.0</td>\n",
       "      <td>3.000000</td>\n",
       "    </tr>\n",
       "    <tr>\n",
       "      <th>Rwanda</th>\n",
       "      <td>12.0</td>\n",
       "      <td>31.0</td>\n",
       "      <td>2.583333</td>\n",
       "    </tr>\n",
       "    <tr>\n",
       "      <th>Togo</th>\n",
       "      <td>4.0</td>\n",
       "      <td>10.0</td>\n",
       "      <td>2.500000</td>\n",
       "    </tr>\n",
       "    <tr>\n",
       "      <th>Lao People's Democratic Republic</th>\n",
       "      <td>3.0</td>\n",
       "      <td>7.0</td>\n",
       "      <td>2.333333</td>\n",
       "    </tr>\n",
       "    <tr>\n",
       "      <th>Republic of Korea</th>\n",
       "      <td>39.0</td>\n",
       "      <td>88.0</td>\n",
       "      <td>2.256410</td>\n",
       "    </tr>\n",
       "  </tbody>\n",
       "</table>\n",
       "</div>"
      ],
      "text/plain": [
       "                                  Año 2019  Año 2020  Aumento %\n",
       "Niger                                  1.0       5.0   5.000000\n",
       "Malawi                                 2.0       8.0   4.000000\n",
       "Bhutan                                 2.0       7.0   3.500000\n",
       "Brunei Darussalam                      1.0       3.0   3.000000\n",
       "Sierra Leone                           2.0       6.0   3.000000\n",
       "Saint Vincent and the Grenadines       1.0       3.0   3.000000\n",
       "Rwanda                                12.0      31.0   2.583333\n",
       "Togo                                   4.0      10.0   2.500000\n",
       "Lao People's Democratic Republic       3.0       7.0   2.333333\n",
       "Republic of Korea                     39.0      88.0   2.256410"
      ]
     },
     "execution_count": 218,
     "metadata": {},
     "output_type": "execute_result"
    }
   ],
   "source": [
    "aumento_2020=pd.concat([pais_2019,pais_2020, aumento], axis=1,sort=True) # unimos frecuencia de año 2019,2020 y aumento\n",
    "aumento_2020.columns =['Año 2019','Año 2020','Aumento %']\n",
    "aumento_2020.sort_values(by=['Aumento %'],ascending=False).head(10) # Top 10 de aumentos"
   ]
  },
  {
   "cell_type": "markdown",
   "metadata": {},
   "source": [
    "###### Cierre de punto\n",
    "Podemos entonces tener el top 10 de paises que han aumentado con respecto al 2019. Aunque una conclusión adicional es que los paises top en su mayoria son muy debiles en cuanto al desarrollo tecnologico, asi que su aceleración se ve mas alta por el efecto de datos muy pequeños."
   ]
  },
  {
   "cell_type": "markdown",
   "metadata": {},
   "source": [
    "##### 2. Analizar los items de nivel de educación y empleo, ¿ cual es el nivel de educacion que tiene el peor y cual el mejor porcentaje de empleo ?"
   ]
  },
  {
   "cell_type": "markdown",
   "metadata": {},
   "source": [
    "Como en el punto anterior, primero seleccionamos y depuramos los campos que requerimos para la respuesta"
   ]
  },
  {
   "cell_type": "code",
   "execution_count": 238,
   "metadata": {},
   "outputs": [],
   "source": [
    "d_2020=data_2020[['EdLevel','Employment']]\n",
    "d_2019=data_2019[['EdLevel','Employment']]\n",
    "d_2018=data_2018[['FormalEducation','Employment']]\n",
    "d_2017=data_2017[['Professional','EmploymentStatus']]\n",
    "\n",
    "#d_2016=data_2016[['country']] No se carga ya que no tiene los campos para homologar\n",
    "#d_2015=data_2015[['Country']] No se carga ya que no tiene los campos para homologar\n",
    "#d_2014=data_2014[['What Country do you live in?']] No se carga ya que no tiene los campos para homologar\n",
    "#d_2013=data_2013[['What Country or Region do you live in?']] No se carga ya que no tiene los campos para homologar\n",
    "\n",
    "d_2020.columns =['Nivel_educacion','Empleo']\n",
    "d_2019.columns =['Nivel_educacion','Empleo']\n",
    "d_2018.columns =['Nivel_educacion','Empleo']\n",
    "d_2017.columns =['Nivel_educacion','Empleo']\n"
   ]
  },
  {
   "cell_type": "markdown",
   "metadata": {},
   "source": [
    "Ahora podemos concatenar las bases para su analisis"
   ]
  },
  {
   "cell_type": "code",
   "execution_count": 239,
   "metadata": {},
   "outputs": [],
   "source": [
    "base_punto2=pd.concat([d_2020,d_2019,d_2018,d_2017])"
   ]
  },
  {
   "cell_type": "markdown",
   "metadata": {},
   "source": [
    "Primero es adecuado observar el estado de los campos a evaluar:"
   ]
  },
  {
   "cell_type": "code",
   "execution_count": 240,
   "metadata": {},
   "outputs": [
    {
     "data": {
      "text/html": [
       "<div>\n",
       "<style scoped>\n",
       "    .dataframe tbody tr th:only-of-type {\n",
       "        vertical-align: middle;\n",
       "    }\n",
       "\n",
       "    .dataframe tbody tr th {\n",
       "        vertical-align: top;\n",
       "    }\n",
       "\n",
       "    .dataframe thead th {\n",
       "        text-align: right;\n",
       "    }\n",
       "</style>\n",
       "<table border=\"1\" class=\"dataframe\">\n",
       "  <thead>\n",
       "    <tr style=\"text-align: right;\">\n",
       "      <th></th>\n",
       "      <th>Nivel_educacion</th>\n",
       "    </tr>\n",
       "  </thead>\n",
       "  <tbody>\n",
       "    <tr>\n",
       "      <th>Bachelor’s degree (BA, BS, B.Eng., etc.)</th>\n",
       "      <td>82793</td>\n",
       "    </tr>\n",
       "    <tr>\n",
       "      <th>Master’s degree (MA, MS, M.Eng., MBA, etc.)</th>\n",
       "      <td>40965</td>\n",
       "    </tr>\n",
       "    <tr>\n",
       "      <th>Professional developer</th>\n",
       "      <td>36131</td>\n",
       "    </tr>\n",
       "    <tr>\n",
       "      <th>Some college/university study without earning a degree</th>\n",
       "      <td>29451</td>\n",
       "    </tr>\n",
       "    <tr>\n",
       "      <th>Bachelor’s degree (B.A., B.S., B.Eng., etc.)</th>\n",
       "      <td>26542</td>\n",
       "    </tr>\n",
       "    <tr>\n",
       "      <th>Secondary school (e.g. American high school, German Realschule or Gymnasium, etc.)</th>\n",
       "      <td>22364</td>\n",
       "    </tr>\n",
       "    <tr>\n",
       "      <th>Master’s degree (M.A., M.S., M.Eng., MBA, etc.)</th>\n",
       "      <td>13112</td>\n",
       "    </tr>\n",
       "    <tr>\n",
       "      <th>Student</th>\n",
       "      <td>8224</td>\n",
       "    </tr>\n",
       "    <tr>\n",
       "      <th>Associate degree</th>\n",
       "      <td>5908</td>\n",
       "    </tr>\n",
       "    <tr>\n",
       "      <th>Professional non-developer who sometimes writes code</th>\n",
       "      <td>5140</td>\n",
       "    </tr>\n",
       "    <tr>\n",
       "      <th>Other doctoral degree (Ph.D, Ed.D., etc.)</th>\n",
       "      <td>4646</td>\n",
       "    </tr>\n",
       "    <tr>\n",
       "      <th>Primary/elementary school</th>\n",
       "      <td>4019</td>\n",
       "    </tr>\n",
       "    <tr>\n",
       "      <th>Professional degree (JD, MD, etc.)</th>\n",
       "      <td>3445</td>\n",
       "    </tr>\n",
       "    <tr>\n",
       "      <th>Associate degree (A.A., A.S., etc.)</th>\n",
       "      <td>1843</td>\n",
       "    </tr>\n",
       "    <tr>\n",
       "      <th>I never completed any formal education</th>\n",
       "      <td>1746</td>\n",
       "    </tr>\n",
       "    <tr>\n",
       "      <th>Other doctoral degree (Ph.D., Ed.D., etc.)</th>\n",
       "      <td>1690</td>\n",
       "    </tr>\n",
       "    <tr>\n",
       "      <th>Used to be a professional developer</th>\n",
       "      <td>983</td>\n",
       "    </tr>\n",
       "    <tr>\n",
       "      <th>None of these</th>\n",
       "      <td>914</td>\n",
       "    </tr>\n",
       "  </tbody>\n",
       "</table>\n",
       "</div>"
      ],
      "text/plain": [
       "                                                    Nivel_educacion\n",
       "Bachelor’s degree (BA, BS, B.Eng., etc.)                      82793\n",
       "Master’s degree (MA, MS, M.Eng., MBA, etc.)                   40965\n",
       "Professional developer                                        36131\n",
       "Some college/university study without earning a...            29451\n",
       "Bachelor’s degree (B.A., B.S., B.Eng., etc.)                  26542\n",
       "Secondary school (e.g. American high school, Ge...            22364\n",
       "Master’s degree (M.A., M.S., M.Eng., MBA, etc.)               13112\n",
       "Student                                                        8224\n",
       "Associate degree                                               5908\n",
       "Professional non-developer who sometimes writes...             5140\n",
       "Other doctoral degree (Ph.D, Ed.D., etc.)                      4646\n",
       "Primary/elementary school                                      4019\n",
       "Professional degree (JD, MD, etc.)                             3445\n",
       "Associate degree (A.A., A.S., etc.)                            1843\n",
       "I never completed any formal education                         1746\n",
       "Other doctoral degree (Ph.D., Ed.D., etc.)                     1690\n",
       "Used to be a professional developer                             983\n",
       "None of these                                                   914"
      ]
     },
     "execution_count": 240,
     "metadata": {},
     "output_type": "execute_result"
    }
   ],
   "source": [
    "base_punto2.Nivel_educacion.value_counts().to_frame()"
   ]
  },
  {
   "cell_type": "code",
   "execution_count": 241,
   "metadata": {},
   "outputs": [
    {
     "data": {
      "text/html": [
       "<div>\n",
       "<style scoped>\n",
       "    .dataframe tbody tr th:only-of-type {\n",
       "        vertical-align: middle;\n",
       "    }\n",
       "\n",
       "    .dataframe tbody tr th {\n",
       "        vertical-align: top;\n",
       "    }\n",
       "\n",
       "    .dataframe thead th {\n",
       "        text-align: right;\n",
       "    }\n",
       "</style>\n",
       "<table border=\"1\" class=\"dataframe\">\n",
       "  <thead>\n",
       "    <tr style=\"text-align: right;\">\n",
       "      <th></th>\n",
       "      <th>Empleo</th>\n",
       "    </tr>\n",
       "  </thead>\n",
       "  <tbody>\n",
       "    <tr>\n",
       "      <th>Employed full-time</th>\n",
       "      <td>216353</td>\n",
       "    </tr>\n",
       "    <tr>\n",
       "      <th>Independent contractor, freelancer, or self-employed</th>\n",
       "      <td>28698</td>\n",
       "    </tr>\n",
       "    <tr>\n",
       "      <th>Not employed, but looking for work</th>\n",
       "      <td>16534</td>\n",
       "    </tr>\n",
       "    <tr>\n",
       "      <th>Employed part-time</th>\n",
       "      <td>15246</td>\n",
       "    </tr>\n",
       "    <tr>\n",
       "      <th>Not employed, and not looking for work</th>\n",
       "      <td>11048</td>\n",
       "    </tr>\n",
       "    <tr>\n",
       "      <th>Student</th>\n",
       "      <td>7787</td>\n",
       "    </tr>\n",
       "    <tr>\n",
       "      <th>I prefer not to say</th>\n",
       "      <td>1086</td>\n",
       "    </tr>\n",
       "    <tr>\n",
       "      <th>Retired</th>\n",
       "      <td>996</td>\n",
       "    </tr>\n",
       "  </tbody>\n",
       "</table>\n",
       "</div>"
      ],
      "text/plain": [
       "                                                    Empleo\n",
       "Employed full-time                                  216353\n",
       "Independent contractor, freelancer, or self-emp...   28698\n",
       "Not employed, but looking for work                   16534\n",
       "Employed part-time                                   15246\n",
       "Not employed, and not looking for work               11048\n",
       "Student                                               7787\n",
       "I prefer not to say                                   1086\n",
       "Retired                                                996"
      ]
     },
     "execution_count": 241,
     "metadata": {},
     "output_type": "execute_result"
    }
   ],
   "source": [
    "base_punto2.Empleo.value_counts().to_frame()"
   ]
  },
  {
   "cell_type": "markdown",
   "metadata": {},
   "source": [
    "Con la tipologia de respuesta clara, se filtra la base "
   ]
  },
  {
   "cell_type": "code",
   "execution_count": 242,
   "metadata": {},
   "outputs": [],
   "source": [
    "base_punto2_filtrada=base_punto2[base_punto2.Empleo.isin(['Employed full-time','Not employed, but looking for work'])] "
   ]
  },
  {
   "cell_type": "code",
   "execution_count": 257,
   "metadata": {},
   "outputs": [],
   "source": [
    "# Tabla cruzada para frecuencias\n",
    "tabla_cruzada=np.transpose(pd.crosstab(base_punto2_filtrada[\"Empleo\"],base_punto2_filtrada[\"Nivel_educacion\"]))"
   ]
  },
  {
   "cell_type": "markdown",
   "metadata": {},
   "source": [
    "Ya contando con la tabla cruzada, veamos porcentajes top de las categorias de empleo"
   ]
  },
  {
   "cell_type": "code",
   "execution_count": 273,
   "metadata": {},
   "outputs": [
    {
     "data": {
      "text/html": [
       "<div>\n",
       "<style scoped>\n",
       "    .dataframe tbody tr th:only-of-type {\n",
       "        vertical-align: middle;\n",
       "    }\n",
       "\n",
       "    .dataframe tbody tr th {\n",
       "        vertical-align: top;\n",
       "    }\n",
       "\n",
       "    .dataframe thead th {\n",
       "        text-align: right;\n",
       "    }\n",
       "</style>\n",
       "<table border=\"1\" class=\"dataframe\">\n",
       "  <thead>\n",
       "    <tr style=\"text-align: right;\">\n",
       "      <th>Empleo</th>\n",
       "      <th>Employed full-time</th>\n",
       "    </tr>\n",
       "    <tr>\n",
       "      <th>Nivel_educacion</th>\n",
       "      <th></th>\n",
       "    </tr>\n",
       "  </thead>\n",
       "  <tbody>\n",
       "    <tr>\n",
       "      <th>Bachelor’s degree (BA, BS, B.Eng., etc.)</th>\n",
       "      <td>31.906140</td>\n",
       "    </tr>\n",
       "    <tr>\n",
       "      <th>Master’s degree (MA, MS, M.Eng., MBA, etc.)</th>\n",
       "      <td>16.268193</td>\n",
       "    </tr>\n",
       "    <tr>\n",
       "      <th>Professional developer</th>\n",
       "      <td>14.402719</td>\n",
       "    </tr>\n",
       "    <tr>\n",
       "      <th>Bachelor’s degree (B.A., B.S., B.Eng., etc.)</th>\n",
       "      <td>9.876573</td>\n",
       "    </tr>\n",
       "    <tr>\n",
       "      <th>Some college/university study without earning a degree</th>\n",
       "      <td>8.734309</td>\n",
       "    </tr>\n",
       "  </tbody>\n",
       "</table>\n",
       "</div>"
      ],
      "text/plain": [
       "Empleo                                              Employed full-time\n",
       "Nivel_educacion                                                       \n",
       "Bachelor’s degree (BA, BS, B.Eng., etc.)                     31.906140\n",
       "Master’s degree (MA, MS, M.Eng., MBA, etc.)                  16.268193\n",
       "Professional developer                                       14.402719\n",
       "Bachelor’s degree (B.A., B.S., B.Eng., etc.)                  9.876573\n",
       "Some college/university study without earning a...            8.734309"
      ]
     },
     "execution_count": 273,
     "metadata": {},
     "output_type": "execute_result"
    }
   ],
   "source": [
    "# Hacemos porcentaje de Empleado y tomamos el top 5\n",
    "((tabla_cruzada[['Employed full-time']]/tabla_cruzada[['Employed full-time']].sum())*100).sort_values(by='Employed full-time',ascending=False).head(5)"
   ]
  },
  {
   "cell_type": "code",
   "execution_count": 274,
   "metadata": {},
   "outputs": [
    {
     "data": {
      "text/html": [
       "<div>\n",
       "<style scoped>\n",
       "    .dataframe tbody tr th:only-of-type {\n",
       "        vertical-align: middle;\n",
       "    }\n",
       "\n",
       "    .dataframe tbody tr th {\n",
       "        vertical-align: top;\n",
       "    }\n",
       "\n",
       "    .dataframe thead th {\n",
       "        text-align: right;\n",
       "    }\n",
       "</style>\n",
       "<table border=\"1\" class=\"dataframe\">\n",
       "  <thead>\n",
       "    <tr style=\"text-align: right;\">\n",
       "      <th>Empleo</th>\n",
       "      <th>Not employed, but looking for work</th>\n",
       "    </tr>\n",
       "    <tr>\n",
       "      <th>Nivel_educacion</th>\n",
       "      <th></th>\n",
       "    </tr>\n",
       "  </thead>\n",
       "  <tbody>\n",
       "    <tr>\n",
       "      <th>Bachelor’s degree (BA, BS, B.Eng., etc.)</th>\n",
       "      <td>25.661123</td>\n",
       "    </tr>\n",
       "    <tr>\n",
       "      <th>Secondary school (e.g. American high school, German Realschule or Gymnasium, etc.)</th>\n",
       "      <td>18.970242</td>\n",
       "    </tr>\n",
       "    <tr>\n",
       "      <th>Some college/university study without earning a degree</th>\n",
       "      <td>14.324858</td>\n",
       "    </tr>\n",
       "    <tr>\n",
       "      <th>Student</th>\n",
       "      <td>12.228382</td>\n",
       "    </tr>\n",
       "    <tr>\n",
       "      <th>Master’s degree (MA, MS, M.Eng., MBA, etc.)</th>\n",
       "      <td>7.117823</td>\n",
       "    </tr>\n",
       "  </tbody>\n",
       "</table>\n",
       "</div>"
      ],
      "text/plain": [
       "Empleo                                              Not employed, but looking for work\n",
       "Nivel_educacion                                                                       \n",
       "Bachelor’s degree (BA, BS, B.Eng., etc.)                                     25.661123\n",
       "Secondary school (e.g. American high school, Ge...                           18.970242\n",
       "Some college/university study without earning a...                           14.324858\n",
       "Student                                                                      12.228382\n",
       "Master’s degree (MA, MS, M.Eng., MBA, etc.)                                   7.117823"
      ]
     },
     "execution_count": 274,
     "metadata": {},
     "output_type": "execute_result"
    }
   ],
   "source": [
    "# Hacemos porcentaje de desempleado y tomamos el top 5\n",
    "((tabla_cruzada[['Not employed, but looking for work']]/tabla_cruzada[['Not employed, but looking for work']].sum())*100).sort_values(by='Not employed, but looking for work',ascending=False).head(5)"
   ]
  },
  {
   "cell_type": "markdown",
   "metadata": {},
   "source": [
    "###### Cierre de punto\n",
    "Se ve que el porcentaje mas alto en empleados y desempleados es el bachillerato, posible resultado por la cantidad de participantes de este segmento. Sin embargo, se denota que la participación de un master es alta en empleados, y cursos sin terminar o aun en estudios tienen el mayor porcentaje en desempleados."
   ]
  },
  {
   "cell_type": "markdown",
   "metadata": {},
   "source": [
    "##### 3. Analizar la tendencia de lenguajes de programación deseados"
   ]
  },
  {
   "cell_type": "markdown",
   "metadata": {},
   "source": [
    "Realizamos el filtro de variables que necesitamos para la respuesta"
   ]
  },
  {
   "cell_type": "code",
   "execution_count": 286,
   "metadata": {},
   "outputs": [],
   "source": [
    "d_2020=data_2020[['año','LanguageDesireNextYear']]\n",
    "d_2019=data_2019[['año','LanguageDesireNextYear']]\n",
    "d_2018=data_2018[['año','LanguageDesireNextYear']]\n",
    "#d_2017=data_2017[[]] No se carga ya que no tiene los campos para homologar\n",
    "#d_2016=data_2016[[]] No se carga ya que no tiene los campos para homologar\n",
    "#d_2015=data_2015[[]] No se carga ya que no tiene los campos para homologar\n",
    "#d_2014=data_2014[[]] No se carga ya que no tiene los campos para homologar\n",
    "#d_2013=data_2013[[]] No se carga ya que no tiene los campos para homologar\n",
    "\n",
    "#d_2020.columns =['Nivel_educacion','Empleo']\n",
    "#d_2019.columns =['Nivel_educacion','Empleo']\n",
    "#d_2018.columns =['Nivel_educacion','Empleo']\n",
    "#d_2017.columns =['Nivel_educacion','Empleo']"
   ]
  },
  {
   "cell_type": "markdown",
   "metadata": {},
   "source": [
    "Ahora concatenamos las bases a trabajar:"
   ]
  },
  {
   "cell_type": "code",
   "execution_count": 287,
   "metadata": {},
   "outputs": [],
   "source": [
    "base_punto3=pd.concat([d_2020,d_2019,d_2018])"
   ]
  },
  {
   "cell_type": "markdown",
   "metadata": {},
   "source": [
    "Tengamos una vista de la respuesta del campo"
   ]
  },
  {
   "cell_type": "code",
   "execution_count": 291,
   "metadata": {},
   "outputs": [
    {
     "data": {
      "text/html": [
       "<div>\n",
       "<style scoped>\n",
       "    .dataframe tbody tr th:only-of-type {\n",
       "        vertical-align: middle;\n",
       "    }\n",
       "\n",
       "    .dataframe tbody tr th {\n",
       "        vertical-align: top;\n",
       "    }\n",
       "\n",
       "    .dataframe thead th {\n",
       "        text-align: right;\n",
       "    }\n",
       "</style>\n",
       "<table border=\"1\" class=\"dataframe\">\n",
       "  <thead>\n",
       "    <tr style=\"text-align: right;\">\n",
       "      <th></th>\n",
       "      <th>LanguageDesireNextYear</th>\n",
       "    </tr>\n",
       "  </thead>\n",
       "  <tbody>\n",
       "    <tr>\n",
       "      <th>Python</th>\n",
       "      <td>3296</td>\n",
       "    </tr>\n",
       "    <tr>\n",
       "      <th>C#</th>\n",
       "      <td>1662</td>\n",
       "    </tr>\n",
       "    <tr>\n",
       "      <th>Java</th>\n",
       "      <td>1532</td>\n",
       "    </tr>\n",
       "    <tr>\n",
       "      <th>Go</th>\n",
       "      <td>1278</td>\n",
       "    </tr>\n",
       "    <tr>\n",
       "      <th>HTML/CSS;JavaScript;TypeScript</th>\n",
       "      <td>1147</td>\n",
       "    </tr>\n",
       "    <tr>\n",
       "      <th>HTML/CSS;JavaScript</th>\n",
       "      <td>1107</td>\n",
       "    </tr>\n",
       "    <tr>\n",
       "      <th>JavaScript</th>\n",
       "      <td>1099</td>\n",
       "    </tr>\n",
       "    <tr>\n",
       "      <th>Kotlin</th>\n",
       "      <td>1098</td>\n",
       "    </tr>\n",
       "  </tbody>\n",
       "</table>\n",
       "</div>"
      ],
      "text/plain": [
       "                                LanguageDesireNextYear\n",
       "Python                                            3296\n",
       "C#                                                1662\n",
       "Java                                              1532\n",
       "Go                                                1278\n",
       "HTML/CSS;JavaScript;TypeScript                    1147\n",
       "HTML/CSS;JavaScript                               1107\n",
       "JavaScript                                        1099\n",
       "Kotlin                                            1098"
      ]
     },
     "execution_count": 291,
     "metadata": {},
     "output_type": "execute_result"
    }
   ],
   "source": [
    "base_punto3.LanguageDesireNextYear.value_counts().head(8).to_frame()"
   ]
  },
  {
   "cell_type": "markdown",
   "metadata": {},
   "source": [
    "Como se observa en este top, es posible que el texto este concatenado con \"punto y coma\", es el deber poder separarlo y analizar bien la data"
   ]
  },
  {
   "cell_type": "code",
   "execution_count": 310,
   "metadata": {},
   "outputs": [],
   "source": [
    "# Para tener resultados por año\n",
    "lenguajes_2018=base_punto3[base_punto3.año.isin(['2018'])] \n",
    "lenguajes_2019=base_punto3[base_punto3.año.isin(['2019'])] \n",
    "lenguajes_2020=base_punto3[base_punto3.año.isin(['2020'])] "
   ]
  },
  {
   "cell_type": "code",
   "execution_count": 344,
   "metadata": {},
   "outputs": [],
   "source": [
    "le_2018=lenguajes_2018.LanguageDesireNextYear.str.split(';', expand=True)\n",
    "le_2019=lenguajes_2019.LanguageDesireNextYear.str.split(';', expand=True)\n",
    "le_2020=lenguajes_2020.LanguageDesireNextYear.str.split(';', expand=True)\n",
    "\n",
    "# Concatenar todas las columnas \n",
    "lenguajes_2018_detallados=pd.concat([le_2018.iloc[:, 0],le_2018.iloc[:, 1],le_2018.iloc[:, 2],le_2018.iloc[:, 3],le_2018.iloc[:, 4],le_2018.iloc[:, 5],le_2018.iloc[:, 6],le_2018.iloc[:, 7],le_2018.iloc[:, 8],le_2018.iloc[:,9],le_2018.iloc[:,10],le_2018.iloc[:,11],le_2018.iloc[:, 12],le_2018.iloc[:,13],le_2018.iloc[:,14],le_2018.iloc[:, 15],le_2018.iloc[:, 16],le_2018.iloc[:, 17],le_2018.iloc[:, 18],le_2018.iloc[:,19],le_2018.iloc[:, 20],le_2018.iloc[:, 21],le_2018.iloc[:,22],le_2018.iloc[:, 23],le_2018.iloc[:, 24],le_2018.iloc[:, 25],le_2018.iloc[:, 26],le_2018.iloc[:, 27],le_2018.iloc[:, 28],le_2018.iloc[:, 29],le_2018.iloc[:, 30],le_2018.iloc[:,31],le_2018.iloc[:,32],le_2018.iloc[:,33],le_2018.iloc[:,34],le_2018.iloc[:,35],le_2018.iloc[:,36],le_2018.iloc[:,37]])\n",
    "lenguajes_2019_detallados=pd.concat([le_2019.iloc[:, 0],le_2019.iloc[:, 1],le_2019.iloc[:, 2],le_2019.iloc[:, 3],le_2019.iloc[:, 4],le_2019.iloc[:, 5],le_2019.iloc[:, 6],le_2019.iloc[:, 7],le_2019.iloc[:, 8],le_2019.iloc[:, 9],le_2019.iloc[:,10],le_2019.iloc[:,11],le_2019.iloc[:,12],le_2019.iloc[:,13],le_2019.iloc[:,14],le_2019.iloc[:,15],le_2019.iloc[:,16],le_2019.iloc[:,17],le_2019.iloc[:,18],le_2019.iloc[:,19],le_2019.iloc[:,20],le_2019.iloc[:,21],le_2019.iloc[:,22],le_2019.iloc[:,23],le_2019.iloc[:,24],le_2019.iloc[:,25],le_2019.iloc[:,26],le_2019.iloc[:,27],le_2019.iloc[:,27]])\n",
    "lenguajes_2020_detallados=pd.concat([le_2020.iloc[:, 0],le_2020.iloc[:,1],le_2020.iloc[:,2],le_2020.iloc[:,3],le_2020.iloc[:,4],le_2020.iloc[:,5],le_2020.iloc[:,6],le_2020.iloc[:,7],le_2020.iloc[:,8],le_2020.iloc[:,9],le_2020.iloc[:,10],le_2020.iloc[:,11],le_2020.iloc[:,12],le_2020.iloc[:,13],le_2020.iloc[:,14],le_2020.iloc[:,15],le_2020.iloc[:,16],le_2020.iloc[:,17],le_2020.iloc[:,18],le_2020.iloc[:,19],le_2020.iloc[:,20],le_2020.iloc[:,21],le_2020.iloc[:,22],le_2020.iloc[:,23],le_2020.iloc[:,24]])"
   ]
  },
  {
   "cell_type": "markdown",
   "metadata": {},
   "source": [
    "Ya logramos separar y dejar lenguajes por unidad. Ahora veamos cuales fueron los lenguajes mas deseados por aprender en los ultimos 3 años"
   ]
  },
  {
   "cell_type": "code",
   "execution_count": 350,
   "metadata": {},
   "outputs": [],
   "source": [
    "lenguajes_2018_detallados_año=lenguajes_2018_detallados.to_frame().assign(año='2018')\n",
    "lenguajes_2019_detallados_año=lenguajes_2019_detallados.to_frame().assign(año='2019')\n",
    "lenguajes_2020_detallados_año=lenguajes_2020_detallados.to_frame().assign(año='2020')"
   ]
  },
  {
   "cell_type": "code",
   "execution_count": 354,
   "metadata": {},
   "outputs": [],
   "source": [
    "# Concatenar los 3 años con la infromación de forma correcta\n",
    "lenguajes_3años= pd.concat([lenguajes_2018_detallados_año.iloc[:,0],lenguajes_2019_detallados_año.iloc[:,0],lenguajes_2020_detallados_año.iloc[:,0]])"
   ]
  },
  {
   "cell_type": "code",
   "execution_count": 372,
   "metadata": {},
   "outputs": [
    {
     "data": {
      "text/html": [
       "<div>\n",
       "<style scoped>\n",
       "    .dataframe tbody tr th:only-of-type {\n",
       "        vertical-align: middle;\n",
       "    }\n",
       "\n",
       "    .dataframe tbody tr th {\n",
       "        vertical-align: top;\n",
       "    }\n",
       "\n",
       "    .dataframe thead th {\n",
       "        text-align: right;\n",
       "    }\n",
       "</style>\n",
       "<table border=\"1\" class=\"dataframe\">\n",
       "  <thead>\n",
       "    <tr style=\"text-align: right;\">\n",
       "      <th></th>\n",
       "      <th>Frecuencia</th>\n",
       "    </tr>\n",
       "  </thead>\n",
       "  <tbody>\n",
       "    <tr>\n",
       "      <th>JavaScript</th>\n",
       "      <td>109392</td>\n",
       "    </tr>\n",
       "    <tr>\n",
       "      <th>Python</th>\n",
       "      <td>99483</td>\n",
       "    </tr>\n",
       "    <tr>\n",
       "      <th>SQL</th>\n",
       "      <td>81547</td>\n",
       "    </tr>\n",
       "    <tr>\n",
       "      <th>Java</th>\n",
       "      <td>59328</td>\n",
       "    </tr>\n",
       "    <tr>\n",
       "      <th>TypeScript</th>\n",
       "      <td>57766</td>\n",
       "    </tr>\n",
       "    <tr>\n",
       "      <th>HTML/CSS</th>\n",
       "      <td>57416</td>\n",
       "    </tr>\n",
       "    <tr>\n",
       "      <th>C#</th>\n",
       "      <td>56542</td>\n",
       "    </tr>\n",
       "    <tr>\n",
       "      <th>Go</th>\n",
       "      <td>45194</td>\n",
       "    </tr>\n",
       "    <tr>\n",
       "      <th>C++</th>\n",
       "      <td>41901</td>\n",
       "    </tr>\n",
       "    <tr>\n",
       "      <th>Kotlin</th>\n",
       "      <td>34828</td>\n",
       "    </tr>\n",
       "  </tbody>\n",
       "</table>\n",
       "</div>"
      ],
      "text/plain": [
       "            Frecuencia\n",
       "JavaScript      109392\n",
       "Python           99483\n",
       "SQL              81547\n",
       "Java             59328\n",
       "TypeScript       57766\n",
       "HTML/CSS         57416\n",
       "C#               56542\n",
       "Go               45194\n",
       "C++              41901\n",
       "Kotlin           34828"
      ]
     },
     "execution_count": 372,
     "metadata": {},
     "output_type": "execute_result"
    }
   ],
   "source": [
    "lenguajes_3años_frecuancia=lenguajes_3años.value_counts().to_frame()\n",
    "lenguajes_3años_frecuancia.columns=['Frecuencia']\n",
    "lenguajes_3años_frecuancia.head(10)"
   ]
  },
  {
   "cell_type": "code",
   "execution_count": 371,
   "metadata": {},
   "outputs": [
    {
     "data": {
      "image/png": "[encoded data removed]",
      "text/plain": [
       "<Figure size 432x288 with 1 Axes>"
      ]
     },
     "metadata": {
      "needs_background": "light"
     },
     "output_type": "display_data"
    }
   ],
   "source": [
    "Lengua = lenguajes_3años_frecuancia.head(10) \n",
    "\n",
    "p1=Lengua.plot(kind=\"bar\");\n",
    "plt.title(\"Frecuencias de lenguajes deseados\");"
   ]
  },
  {
   "cell_type": "markdown",
   "metadata": {},
   "source": [
    "###### Cierre de punto\n",
    "Fue de gran importancia lograr separar las respuestas para su correcto analisis. Con esto, podemos ver que JavaScript y python estan liderando los lenguajes con deseo de aprendizaje."
   ]
  }
 ],
 "metadata": {
  "kernelspec": {
   "display_name": "Python 3",
   "language": "python",
   "name": "python3"
  },
  "language_info": {
   "codemirror_mode": {
    "name": "ipython",
    "version": 3
   },
   "file_extension": ".py",
   "mimetype": "text/x-python",
   "name": "python",
   "nbconvert_exporter": "python",
   "pygments_lexer": "ipython3",
   "version": "3.7.1"
  }
 },
 "nbformat": 4,
 "nbformat_minor": 2
}
