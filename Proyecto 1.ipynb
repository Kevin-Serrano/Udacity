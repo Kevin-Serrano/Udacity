{
 "cells": [
  {
   "cell_type": "markdown",
   "metadata": {},
   "source": [
    "# Ejercicio introducción a ciencia de datos"
   ]
  },
  {
   "cell_type": "markdown",
   "metadata": {},
   "source": [
    "Se toma la base de la encuesta anual de desarrolladores de Stack Overflow, realizada en mas de 180 paises, la cual toma varios temas de interes general."
   ]
  },
  {
   "cell_type": "markdown",
   "metadata": {},
   "source": [
    "#### Como objetivo de este notebook se plantea responder varias preguntas\n",
    "##### 1. Cual es la distribución de los paises en total, y cual es el que a tenido mas aumento en el 2020 ? \n",
    "##### 2. Pregunta 2: Posibles analisis con variables:  Edlevel, Employment, LanguageDesireNextYear para tendencia\n",
    "##### 3. Pregunta 3:"
   ]
  },
  {
   "cell_type": "markdown",
   "metadata": {},
   "source": [
    "###### Para llevar a cabo el desarrollo de los objetivos se continua con su desarrollo:"
   ]
  },
  {
   "cell_type": "markdown",
   "metadata": {},
   "source": [
    "Importacion de librerias, y carga de datos"
   ]
  },
  {
   "cell_type": "code",
   "execution_count": 22,
   "metadata": {},
   "outputs": [],
   "source": [
    "import os\n",
    "import pandas as pd\n",
    "os.chdir(\"C:\\\\Users\\Kevin\\Desktop\\Proyecto 1\\Data\")\n",
    "os.getcwd()\n",
    "\n",
    "\n",
    "filename2013 = '2013 Stack Overflow Survey Responses.csv'\n",
    "data_2013 = pd.read_csv(filename2013, header=0)\n",
    "\n",
    "filename2014 = '2014 Stack Overflow Survey Responses.csv'\n",
    "data_2014 = pd.read_csv(filename2014, header=0)\n",
    "\n",
    "filename2015 = '2015 Stack Overflow Developer Survey Responses.csv'\n",
    "data_2015 = pd.read_csv(filename2015, header=1)\n",
    "\n",
    "filename2016 = '2016 Stack Overflow Survey Responses.csv'\n",
    "data_2016 = pd.read_csv(filename2016, header=0)\n",
    "\n",
    "filename2017 = 'survey_results_public_2017.csv'\n",
    "data_2017 = pd.read_csv(filename2017, header=0)\n",
    "\n",
    "filename2018 = 'survey_results_public_2018.csv'\n",
    "data_2018 = pd.read_csv(filename2018, header=0)\n",
    "\n",
    "filename2019 = 'survey_results_public_2019.csv'\n",
    "data_2019 = pd.read_csv(filename2019, header=0)\n",
    "\n",
    "filename2020 = 'survey_results_public_2020.csv'\n",
    "data_2020 = pd.read_csv(filename2020, header=0)"
   ]
  },
  {
   "cell_type": "markdown",
   "metadata": {},
   "source": [
    "Se agrega una columna para identificar el año de la base"
   ]
  },
  {
   "cell_type": "code",
   "execution_count": 85,
   "metadata": {
    "scrolled": true
   },
   "outputs": [],
   "source": [
    "data_2020=data_2020.assign(año='2020')\n",
    "data_2019=data_2019.assign(año='2019')\n",
    "data_2018=data_2018.assign(año='2018')\n",
    "data_2017=data_2017.assign(año='2017')\n",
    "data_2016=data_2016.assign(año='2016')\n",
    "data_2015=data_2015.assign(año='2015')\n",
    "data_2014=data_2014.assign(año='2014')\n",
    "data_2013=data_2013.assign(año='2013')"
   ]
  },
  {
   "cell_type": "markdown",
   "metadata": {},
   "source": [
    "Antes de unir las bases, seleccionamos las variables y cambiamos nombres por practicidad"
   ]
  },
  {
   "cell_type": "code",
   "execution_count": 89,
   "metadata": {},
   "outputs": [],
   "source": [
    "d_2020=data_2020[['Country','año']]\n",
    "d_2019=data_2019[['Country','año']]\n",
    "d_2018=data_2018[['Country','año']]\n",
    "d_2017=data_2017[['Country','año']]\n",
    "d_2016=data_2016[['country','año']]\n",
    "d_2015=data_2015[['Country','año']]\n",
    "d_2014=data_2014[['What Country do you live in?','año']]\n",
    "d_2013=data_2013[['What Country or Region do you live in?','año']]\n",
    "\n",
    "d_2020.columns =['Country','Año']\n",
    "d_2019.columns =['Country','Año']\n",
    "d_2018.columns =['Country','Año']\n",
    "d_2017.columns =['Country','Año']\n",
    "d_2016.columns =['Country','Año']\n",
    "d_2015.columns =['Country','Año']\n",
    "d_2014.columns =['Country','Año']\n",
    "d_2013.columns =['Country','Año']"
   ]
  },
  {
   "cell_type": "markdown",
   "metadata": {},
   "source": [
    "Unimos las columnas de las bases que nos interesa para resolver la primera pregunta"
   ]
  },
  {
   "cell_type": "code",
   "execution_count": 93,
   "metadata": {},
   "outputs": [],
   "source": [
    "base_punto1=pd.concat([d_2020,d_2019,d_2018,d_2017,d_2016,d_2015,d_2014,d_2013])"
   ]
  },
  {
   "cell_type": "markdown",
   "metadata": {},
   "source": [
    "Veamos una pequeña medida de la base que trabajaremos"
   ]
  },
  {
   "cell_type": "code",
   "execution_count": 100,
   "metadata": {},
   "outputs": [
    {
     "name": "stdout",
     "output_type": "stream",
     "text": [
      "          count unique            top   freq\n",
      "Country  400851    282  United States  85594\n",
      "Año      403094      8           2018  98855\n"
     ]
    }
   ],
   "source": [
    "base_punto1.describe()"
   ]
  }
 ],
 "metadata": {
  "kernelspec": {
   "display_name": "Python 3",
   "language": "python",
   "name": "python3"
  },
  "language_info": {
   "codemirror_mode": {
    "name": "ipython",
    "version": 3
   },
   "file_extension": ".py",
   "mimetype": "text/x-python",
   "name": "python",
   "nbconvert_exporter": "python",
   "pygments_lexer": "ipython3",
   "version": "3.7.1"
  }
 },
 "nbformat": 4,
 "nbformat_minor": 2
}
